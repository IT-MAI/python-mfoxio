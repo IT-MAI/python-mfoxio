{
  "nbformat": 4,
  "nbformat_minor": 0,
  "metadata": {
    "colab": {
      "name": "112_colab.ipynb",
      "provenance": [],
      "collapsed_sections": []
    },
    "kernelspec": {
      "name": "python3",
      "display_name": "Python 3"
    },
    "language_info": {
      "name": "python"
    }
  },
  "cells": [
    {
      "cell_type": "markdown",
      "metadata": {
        "id": "87JfPMU3qepb"
      },
      "source": [
        "Торкаченко Антон,м10-112б-21"
      ]
    },
    {
      "cell_type": "markdown",
      "metadata": {
        "id": "ZQodsYBoqq7T"
      },
      "source": [
        "Задача 1. \n",
        "Пример описания"
      ]
    },
    {
      "cell_type": "code",
      "metadata": {
        "id": "9ZGVY0L2qpTW",
        "outputId": "fce3282d-71d8-4ecc-a4b1-d4d870e48491",
        "colab": {
          "base_uri": "https://localhost:8080/"
        }
      },
      "source": [
        "'Вывести третий символ этой строки'\n",
        "row = \"Lambdadambda\"\n",
        "print (row[2])"
      ],
      "execution_count": 22,
      "outputs": [
        {
          "output_type": "stream",
          "name": "stdout",
          "text": [
            "m\n"
          ]
        }
      ]
    },
    {
      "cell_type": "code",
      "source": [
        "'Вывести предпоследний символ этой строки.'\n",
        "print (row[len(row)-2])"
      ],
      "metadata": {
        "id": "g2C0feQNubLR",
        "outputId": "4ac1bd3d-77da-4e6c-bfc1-c0f1045f9604",
        "colab": {
          "base_uri": "https://localhost:8080/"
        }
      },
      "execution_count": 23,
      "outputs": [
        {
          "output_type": "stream",
          "name": "stdout",
          "text": [
            "d\n"
          ]
        }
      ]
    },
    {
      "cell_type": "code",
      "source": [
        "'Вывести первые пять символов этой строки.'\n",
        "for i in range (0,5):\n",
        "    print(row[i])"
      ],
      "metadata": {
        "id": "H3nFFgIYubS2",
        "outputId": "7b43f2dc-b632-4cc9-d969-321b5df194de",
        "colab": {
          "base_uri": "https://localhost:8080/"
        }
      },
      "execution_count": 24,
      "outputs": [
        {
          "output_type": "stream",
          "name": "stdout",
          "text": [
            "L\n",
            "a\n",
            "m\n",
            "b\n",
            "d\n"
          ]
        }
      ]
    },
    {
      "cell_type": "code",
      "source": [
        "'Вывести строку, кроме последних двух символов.'\n",
        "for i in range (0,len(row)-3):\n",
        "    print(row[i])"
      ],
      "metadata": {
        "id": "Pvh89v4bubYt",
        "outputId": "82e22acf-eaa2-4e62-b74d-72873c52f94d",
        "colab": {
          "base_uri": "https://localhost:8080/"
        }
      },
      "execution_count": 25,
      "outputs": [
        {
          "output_type": "stream",
          "name": "stdout",
          "text": [
            "L\n",
            "a\n",
            "m\n",
            "b\n",
            "d\n",
            "a\n",
            "d\n",
            "a\n",
            "m\n"
          ]
        }
      ]
    },
    {
      "cell_type": "code",
      "source": [
        "'Вывести все символы с четными индексами (считайте, что 0 - четный индекс).'\n",
        "for i in range(len(row)):\n",
        "    if i%2 == 0:\n",
        "        print(row[i])"
      ],
      "metadata": {
        "id": "gzV3706fu7Nr",
        "outputId": "ccfeefb0-484d-4abe-d976-908c4ac6c544",
        "colab": {
          "base_uri": "https://localhost:8080/"
        }
      },
      "execution_count": 26,
      "outputs": [
        {
          "output_type": "stream",
          "name": "stdout",
          "text": [
            "L\n",
            "m\n",
            "d\n",
            "d\n",
            "m\n",
            "d\n"
          ]
        }
      ]
    },
    {
      "cell_type": "code",
      "source": [
        "'Вывести все символы с нечетными индексами.'\n",
        "for i in range(len(row)):\n",
        "    if i%2 == 1:\n",
        "        print(row[i])"
      ],
      "metadata": {
        "id": "n9fCt3tJu7Ut",
        "outputId": "a703339c-e5e8-4b66-967b-41752b6dead0",
        "colab": {
          "base_uri": "https://localhost:8080/"
        }
      },
      "execution_count": 27,
      "outputs": [
        {
          "output_type": "stream",
          "name": "stdout",
          "text": [
            "a\n",
            "b\n",
            "a\n",
            "a\n",
            "b\n",
            "a\n"
          ]
        }
      ]
    },
    {
      "cell_type": "code",
      "source": [
        "'Вывести все символы в обратном порядке.'\n",
        "for i in range (len(row)-1, -1, -1):\n",
        "    print(row[i])"
      ],
      "metadata": {
        "id": "qooJHFYOu7cC",
        "outputId": "cb8f5222-4d49-4cbb-96dd-4385ef873f89",
        "colab": {
          "base_uri": "https://localhost:8080/"
        }
      },
      "execution_count": 28,
      "outputs": [
        {
          "output_type": "stream",
          "name": "stdout",
          "text": [
            "a\n",
            "d\n",
            "b\n",
            "m\n",
            "a\n",
            "d\n",
            "a\n",
            "d\n",
            "b\n",
            "m\n",
            "a\n",
            "L\n"
          ]
        }
      ]
    },
    {
      "cell_type": "code",
      "source": [
        "'Вывести все символы строки через один в обратном порядке, начиная с последнего.'\n",
        "for i in range (len(row)-1, -1, -1):\n",
        "    if i%2 ==1:\n",
        "        print(row[i])\n",
        "for i in range (len(row)-1, -1, -1):\n",
        "    if i%2 ==0:\n",
        "        print(row[i])"
      ],
      "metadata": {
        "id": "Pt6I69jqu7rO",
        "outputId": "6cb9609a-556e-4e08-ffc3-0a666526bde2",
        "colab": {
          "base_uri": "https://localhost:8080/"
        }
      },
      "execution_count": 29,
      "outputs": [
        {
          "output_type": "stream",
          "name": "stdout",
          "text": [
            "a\n",
            "b\n",
            "a\n",
            "a\n",
            "b\n",
            "a\n",
            "d\n",
            "m\n",
            "d\n",
            "d\n",
            "m\n",
            "L\n"
          ]
        }
      ]
    },
    {
      "cell_type": "code",
      "source": [
        "'Вывести длину данной строки.'\n",
        "print(len(row))"
      ],
      "metadata": {
        "id": "PRfXs4vIvcJm",
        "outputId": "a136c030-261b-4e8e-b38a-ff66f08c5baf",
        "colab": {
          "base_uri": "https://localhost:8080/"
        }
      },
      "execution_count": 30,
      "outputs": [
        {
          "output_type": "stream",
          "name": "stdout",
          "text": [
            "12\n"
          ]
        }
      ]
    },
    {
      "cell_type": "markdown",
      "metadata": {
        "id": "LMWu2wo3q1jn"
      },
      "source": [
        "Задача 2. Пример описания"
      ]
    },
    {
      "cell_type": "code",
      "metadata": {
        "id": "ZBLJNsalqvoM"
      },
      "source": [
        "# Код писать тут"
      ],
      "execution_count": null,
      "outputs": []
    },
    {
      "cell_type": "code",
      "metadata": {
        "id": "ZqoufEKVq3_T"
      },
      "source": [
        ""
      ],
      "execution_count": null,
      "outputs": []
    }
  ]
}