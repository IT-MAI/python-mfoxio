{
  "nbformat": 4,
  "nbformat_minor": 0,
  "metadata": {
    "colab": {
      "name": "112_colab.ipynb",
      "provenance": [],
      "collapsed_sections": []
    },
    "kernelspec": {
      "name": "python3",
      "display_name": "Python 3"
    },
    "language_info": {
      "name": "python"
    }
  },
  "cells": [
    {
      "cell_type": "markdown",
      "metadata": {
        "id": "87JfPMU3qepb"
      },
      "source": [
        "Торкаченко Антон,м10-112б-21\n",
        "\n"
      ]
    },
    {
      "cell_type": "markdown",
      "metadata": {
        "id": "ZQodsYBoqq7T"
      },
      "source": [
        "Задача 1. \n",
        "Пример описания"
      ]
    },
    {
      "cell_type": "code",
      "metadata": {
        "id": "9ZGVY0L2qpTW",
        "outputId": "9084c4ee-10fd-4158-e487-2a1fea599d9b",
        "colab": {
          "base_uri": "https://localhost:8080/"
        }
      },
      "source": [
        "'Допишите функцию, которая принимает список, выбирает из него все элементы с четным индексом и возвращает их в виде списка.'\n",
        "j = 0\n",
        "print('Введите количество членов массива')\n",
        "n = int(input())\n",
        "inp = ['']*n\n",
        "out = [\"\"]*((n//2)+1)\n",
        "for i in range(0,n):\n",
        "    inp[i] = str(input())\n",
        "\n",
        "for i in range(n):\n",
        "    if i%2 == 0:\n",
        "        out[j] = inp[i]\n",
        "        j += 1\n",
        "print(out)\n",
        "\n",
        "# нумерация идёт с нуля, ноль чётный "
      ],
      "execution_count": 32,
      "outputs": [
        {
          "output_type": "stream",
          "name": "stdout",
          "text": [
            "Введите количество членов массива\n",
            "3\n",
            "фщвфвщ\n",
            "amdfmadm\n",
            "amd\n",
            "['фщвфвщ', 'amd']\n"
          ]
        }
      ]
    },
    {
      "cell_type": "code",
      "source": [
        "'Допишите функцию, которая принимает список, выбирает из него все элементы, которые больше предыдущего и возвращает их в виде списка.'\n",
        "j = 0\n",
        "print('Введите количество членов массива')\n",
        "n = int(input())\n",
        "inp = [0]*n\n",
        "out = [0]*((n//2)+1)\n",
        "for i in range(0,n):\n",
        "    inp[i] = int(input())\n",
        "\n",
        "for i in range(n):\n",
        "    if inp[i-1]<inp[i]: \n",
        "        out[j] = inp[i]\n",
        "        j += 1\n",
        "        \n",
        "print(out)"
      ],
      "metadata": {
        "id": "K_BxPZbHzCkL",
        "outputId": "7eb17262-cbe4-4c84-dc92-777f592f78d3",
        "colab": {
          "base_uri": "https://localhost:8080/"
        }
      },
      "execution_count": 35,
      "outputs": [
        {
          "output_type": "stream",
          "name": "stdout",
          "text": [
            "Введите количество членов массива\n",
            "4\n",
            "3\n",
            "7\n",
            "5\n",
            "34\n",
            "[7, 34, 0]\n"
          ]
        }
      ]
    },
    {
      "cell_type": "code",
      "source": [
        "'Допишите функцию, которая принимает список, меняет местами наибольший и наименьший элементы и возвращает этот список.'\n",
        "j = 0\n",
        "minimp = 1000\n",
        "maximp = 0\n",
        "print('Введите количество членов массива')\n",
        "n = int(input())\n",
        "inp = [0]*n\n",
        "out = [0]*((n//2)+1)\n",
        "for i in range(0,n):\n",
        "    inp[i] = int(input())\n",
        "\n",
        "for i in range(0,n):\n",
        "    if inp[i]<minimp:\n",
        "        mini = i\n",
        "        minimp = inp[i]\n",
        "\n",
        "for i in range(0,n):\n",
        "    if inp[i]>maximp:\n",
        "        maxi = i\n",
        "        maximp = inp[i]\n",
        "        \n",
        "print(mini)\n",
        "print(maxi)\n",
        "buff = inp[maxi]\n",
        "inp[maxi] = inp[mini]\n",
        "inp[mini] = buff   \n",
        "print(inp)"
      ],
      "metadata": {
        "id": "g6vAIPb1z_2T",
        "outputId": "b5697584-ec59-4b64-cfb1-b010b31924f8",
        "colab": {
          "base_uri": "https://localhost:8080/"
        }
      },
      "execution_count": 36,
      "outputs": [
        {
          "output_type": "stream",
          "name": "stdout",
          "text": [
            "Введите количество членов массива\n",
            "4\n",
            "3\n",
            "10\n",
            "7\n",
            "78\n",
            "0\n",
            "3\n",
            "[78, 10, 7, 3]\n"
          ]
        }
      ]
    },
    {
      "cell_type": "markdown",
      "metadata": {
        "id": "LMWu2wo3q1jn"
      },
      "source": [
        "Задача 2. Пример описания"
      ]
    },
    {
      "cell_type": "code",
      "metadata": {
        "id": "ZBLJNsalqvoM"
      },
      "source": [
        "# Код писать тут"
      ],
      "execution_count": null,
      "outputs": []
    },
    {
      "cell_type": "code",
      "metadata": {
        "id": "ZqoufEKVq3_T"
      },
      "source": [
        ""
      ],
      "execution_count": null,
      "outputs": []
    }
  ]
}