{
  "nbformat": 4,
  "nbformat_minor": 0,
  "metadata": {
    "colab": {
      "name": "112_colab.ipynb",
      "provenance": [],
      "collapsed_sections": []
    },
    "kernelspec": {
      "name": "python3",
      "display_name": "Python 3"
    },
    "language_info": {
      "name": "python"
    }
  },
  "cells": [
    {
      "cell_type": "markdown",
      "metadata": {
        "id": "87JfPMU3qepb"
      },
      "source": [
        "Торкаченко Антон,м10-112б-21\n",
        "\n"
      ]
    },
    {
      "cell_type": "markdown",
      "metadata": {
        "id": "ZQodsYBoqq7T"
      },
      "source": [
        "Задача 1. \n",
        "Пример описания"
      ]
    },
    {
      "cell_type": "code",
      "metadata": {
        "id": "9ZGVY0L2qpTW",
        "outputId": "1a5a5ac6-9e83-431d-fd81-63be2c3ba3e1",
        "colab": {
          "base_uri": "https://localhost:8080/"
        }
      },
      "source": [
        "'Допишите функцию, которая принимает массив из 10 чисел и возвращает их сумму'\n",
        "S = 0\n",
        "a = [0] * 10\n",
        "for i in range(len(a)):\n",
        "    a[i] = int(input())\n",
        "    \n",
        "for i in range(len(a)):\n",
        "    S = int(S + a[i])\n",
        "    \n",
        "print(S)"
      ],
      "execution_count": 17,
      "outputs": [
        {
          "output_type": "stream",
          "name": "stdout",
          "text": [
            "1\n",
            "1\n",
            "1\n",
            "1\n",
            "1\n",
            "1\n",
            "2\n",
            "3\n",
            "3\n",
            "4\n",
            "18\n"
          ]
        }
      ]
    },
    {
      "cell_type": "code",
      "source": [
        "'Допишите функцию, которая принимает массив чисел и возвращает количество чисел равных нулю.'\n",
        "S = 0\n",
        "a = [0] * 10\n",
        "for i in range(len(a)):\n",
        "    a[i] = int(input())\n",
        "    \n",
        "for i in range(len(a)):\n",
        "    if a[i] == 0:\n",
        "        S+=1\n",
        "    \n",
        "print(S)"
      ],
      "metadata": {
        "id": "ChHrHRgHhh_R",
        "outputId": "6e64c9f3-fb82-4606-fd99-67fa302a97ec",
        "colab": {
          "base_uri": "https://localhost:8080/"
        }
      },
      "execution_count": 18,
      "outputs": [
        {
          "output_type": "stream",
          "name": "stdout",
          "text": [
            "2\n",
            "2\n",
            "3\n",
            "5\n",
            "0\n",
            "0\n",
            "1\n",
            "23\n",
            "4\n",
            "5\n",
            "2\n"
          ]
        }
      ]
    },
    {
      "cell_type": "code",
      "source": [
        "'Напишите программу, в которой задается натуральное число n и выводится лестница из n ступенек, i-я ступенька должна состоять из чисел от 1 до i без пробелов.'\n",
        "n = int(input())\n",
        "a = \"\"\n",
        "i = 1\n",
        "for i in range(n):\n",
        "    a = a + str(i+1)\n",
        "    print(a)"
      ],
      "metadata": {
        "id": "KQ_06dDPh7gg",
        "outputId": "e339482c-d4d7-4715-aeca-72d907ad80b8",
        "colab": {
          "base_uri": "https://localhost:8080/"
        }
      },
      "execution_count": 19,
      "outputs": [
        {
          "output_type": "stream",
          "name": "stdout",
          "text": [
            "5\n",
            "1\n",
            "12\n",
            "123\n",
            "1234\n",
            "12345\n"
          ]
        }
      ]
    },
    {
      "cell_type": "code",
      "source": [
        "'Напишите программу, в которой задается натуральное число n и выводится пирамида из n ступенек, i-я ступень должна состоять из чисел от 1 до i и обратно без пробелов.'\n",
        "help = [\"\"]*100\n",
        "a = \"\"\n",
        "i = 1\n",
        "n = int(input())\n",
        "for i in range(1,n+1): \n",
        "    if i == 0:\n",
        "        i = 1\n",
        "    b = a \n",
        "    a = a + str(i) \n",
        "    \n",
        "    help = sorted(list(a), reverse=True)\n",
        "    for j in range(i):\n",
        "        b += help [j]\n",
        "    print(\" \"*(n-i),b)\n",
        "       "
      ],
      "metadata": {
        "id": "ztFBbFgViqHa",
        "outputId": "c1e8e652-a194-4b09-cd68-5510e90a98a9",
        "colab": {
          "base_uri": "https://localhost:8080/"
        }
      },
      "execution_count": 20,
      "outputs": [
        {
          "output_type": "stream",
          "name": "stdout",
          "text": [
            "5\n",
            "     1\n",
            "    121\n",
            "   12321\n",
            "  1234321\n",
            " 123454321\n"
          ]
        }
      ]
    },
    {
      "cell_type": "code",
      "source": [
        "'Напишите программу, в которой задается натуральное число n и выводится ромб из n*2-1 ступенек, i-я ступень должна состоять из чисел от 1 до i и обратно без пробелов.'\n",
        "help = [\"\"]*100 # массив вывода пирамидки\n",
        "a = \"\"\n",
        "i = 1\n",
        "k = 1\n",
        "n = int(input())\n",
        "for i in range(1,n+1): #первые в  ромбе, первая пирамидка\n",
        "    if i == 0:\n",
        "        i = 1\n",
        "    b = a #здесь сохраняем от 1 до i-1 чтобы потом развернуть\n",
        "    a = a + str(i) #с каждым проходом добавляет по цифре\n",
        "    \n",
        "    help = sorted(list(a), reverse=True) #разворот массива \n",
        "    for j in range(i):\n",
        "        b += help [j]\n",
        "    print(\" \"*(n-i),b) #вывод c пробелами\n",
        "\n",
        "c = list(b)\n",
        "a=\"\"\n",
        "f=\"\" #вводим массив для обратной пирамидки\n",
        "help = [\"\"]*100 \n",
        "\n",
        "for i in range (n, 1, -1):\n",
        "    while c.count(str(i)) != 0: #считает количество элементов равных i\n",
        "        c.remove(str(i)) #удаляет все совпадения\n",
        "    c.remove(str(i-1))  \n",
        "    for i in range(len(c)):\n",
        "        f +=c[i] #собсна вывод\n",
        "        \n",
        "    print(\" \"*k,f)\n",
        "    k+=1\n",
        "    f = \"\""
      ],
      "metadata": {
        "id": "j8LH2B3Wi3xX",
        "outputId": "7592b677-f24a-48b8-9af3-5b17caaa7f46",
        "colab": {
          "base_uri": "https://localhost:8080/"
        }
      },
      "execution_count": 21,
      "outputs": [
        {
          "output_type": "stream",
          "name": "stdout",
          "text": [
            "6\n",
            "      1\n",
            "     121\n",
            "    12321\n",
            "   1234321\n",
            "  123454321\n",
            " 12345654321\n",
            "  123454321\n",
            "   1234321\n",
            "    12321\n",
            "     121\n",
            "      1\n"
          ]
        }
      ]
    },
    {
      "cell_type": "markdown",
      "metadata": {
        "id": "LMWu2wo3q1jn"
      },
      "source": [
        "Задача 2. Пример описания"
      ]
    },
    {
      "cell_type": "code",
      "metadata": {
        "id": "ZBLJNsalqvoM"
      },
      "source": [
        "# Код писать тут"
      ],
      "execution_count": null,
      "outputs": []
    },
    {
      "cell_type": "code",
      "metadata": {
        "id": "ZqoufEKVq3_T"
      },
      "source": [
        ""
      ],
      "execution_count": null,
      "outputs": []
    }
  ]
}