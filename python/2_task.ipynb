{
  "nbformat": 4,
  "nbformat_minor": 0,
  "metadata": {
    "colab": {
      "name": "112_colab.ipynb",
      "provenance": [],
      "collapsed_sections": []
    },
    "kernelspec": {
      "name": "python3",
      "display_name": "Python 3"
    },
    "language_info": {
      "name": "python"
    }
  },
  "cells": [
    {
      "cell_type": "markdown",
      "metadata": {
        "id": "87JfPMU3qepb"
      },
      "source": [
        "Торкаченко Антон,м10-112б-21"
      ]
    },
    {
      "cell_type": "markdown",
      "metadata": {
        "id": "ZQodsYBoqq7T"
      },
      "source": [
        "Задача 1. \n",
        "Пример описания"
      ]
    },
    {
      "cell_type": "code",
      "metadata": {
        "id": "9ZGVY0L2qpTW",
        "outputId": "15ded222-79c7-4c33-f26f-f78c5f5828f8",
        "colab": {
          "base_uri": "https://localhost:8080/"
        }
      },
      "source": [
        "'Допишите функцию, которая принимает 2 числа, сравнивает между собой и возвращает наименьшее.'\n",
        "a = int(input())\n",
        "b = int(input())\n",
        "if a<b:\n",
        "    print(a)\n",
        "elif a>b:\n",
        "    print(b)"
      ],
      "execution_count": 11,
      "outputs": [
        {
          "output_type": "stream",
          "name": "stdout",
          "text": [
            "6\n",
            "9\n",
            "6\n"
          ]
        }
      ]
    },
    {
      "cell_type": "code",
      "source": [
        "'Допишите функцию, которая принимает 3 числа, сравнивает между собой и возвращает наименьшее.'\n",
        "a = int(input())\n",
        "b = int(input())\n",
        "c = int(input())\n",
        "if (a<b) and (a<c):\n",
        "    print(a)\n",
        "elif (b<a) and (b<c):\n",
        "    print(b)\n",
        "elif (b<a) and (b<c):\n",
        "    print(c)\n",
        "    "
      ],
      "metadata": {
        "id": "Gdi35yyDer_T",
        "outputId": "6f14594e-6a8a-4d69-95a9-6257c5a56a5f",
        "colab": {
          "base_uri": "https://localhost:8080/"
        }
      },
      "execution_count": 12,
      "outputs": [
        {
          "output_type": "stream",
          "name": "stdout",
          "text": [
            "2\n",
            "34\n",
            "7\n",
            "2\n"
          ]
        }
      ]
    },
    {
      "cell_type": "code",
      "source": [
        "'Допишите функцию, которая принимает 3 числа, сравнивает между собой и возвращает количество совпадающих чисел. Соответственно, программа может возвращать одно из трех чисел: 3 - если совпадают все, 2 - если совпадают 2 числа, 0 - если все числа различны.'\n",
        "a = int(input())\n",
        "b = int(input())\n",
        "c = int(input())\n",
        "if (a==b) and (b==c):\n",
        "    print(3)\n",
        "if ((a==b) and (b!=c)) or ((a!=b) and (b==c)):\n",
        "    print(2)\n",
        "if ((a!=b) and (b!=c)): \n",
        "    print(0)"
      ],
      "metadata": {
        "id": "Kj4jy6MRe-Qf",
        "outputId": "0ce3887f-49c7-4cb6-c4e4-33012a5e1cbc",
        "colab": {
          "base_uri": "https://localhost:8080/"
        }
      },
      "execution_count": 15,
      "outputs": [
        {
          "output_type": "stream",
          "name": "stdout",
          "text": [
            "3\n",
            "3\n",
            "4\n",
            "2\n"
          ]
        }
      ]
    },
    {
      "cell_type": "markdown",
      "metadata": {
        "id": "LMWu2wo3q1jn"
      },
      "source": [
        "Задача 2. Пример описания"
      ]
    },
    {
      "cell_type": "code",
      "metadata": {
        "id": "ZBLJNsalqvoM"
      },
      "source": [
        "# Код писать тут"
      ],
      "execution_count": null,
      "outputs": []
    },
    {
      "cell_type": "code",
      "metadata": {
        "id": "ZqoufEKVq3_T"
      },
      "source": [
        ""
      ],
      "execution_count": null,
      "outputs": []
    }
  ]
}